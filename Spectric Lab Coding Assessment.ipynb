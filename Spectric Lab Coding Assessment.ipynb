{
 "cells": [
  {
   "cell_type": "markdown",
   "id": "213fb321",
   "metadata": {},
   "source": [
    "Write a function that takes three inputs, array, take, and skip. This function will loop through the array and will take n elements from the array then will skip n element. The return of the function will be an array of only the \"take\" elements."
   ]
  },
  {
   "cell_type": "code",
   "execution_count": 30,
   "id": "c4ebcaf3",
   "metadata": {},
   "outputs": [],
   "source": [
    "import math"
   ]
  },
  {
   "cell_type": "code",
   "execution_count": 31,
   "id": "2e1bbbce",
   "metadata": {},
   "outputs": [],
   "source": [
    "def choose(arr, take, skip):\n",
    "    return_arr = []\n",
    "    #Counters to keep track of current element in array and current take or skip count\n",
    "    i = 0\n",
    "    t_count = 0\n",
    "    s_count = 0\n",
    "    #Boolean to keep track of whether it's necessary to take or skip\n",
    "    t_or_s = True\n",
    "    #Iterates through all elements in array\n",
    "    while i < len(arr):\n",
    "        #Checks if the current element should be taken or skipped\n",
    "        if (t_or_s) == True:\n",
    "            return_arr.append(arr[i])\n",
    "            t_count+=1\n",
    "            if (t_count == take):\n",
    "                t_count = 0\n",
    "                t_or_s = False\n",
    "        else:\n",
    "            s_count+=1\n",
    "            if (s_count == skip):\n",
    "                s_count = 0\n",
    "                t_or_s = True \n",
    "        i = i + 1\n",
    "    return return_arr"
   ]
  },
  {
   "cell_type": "markdown",
   "id": "c0d8c1f7",
   "metadata": {},
   "source": [
    "In high performance systems/applications you need to allocate memory prior to creating the output array. ​\n",
    "Write a function that will figure out the length of the final array without looping through the original array.​"
   ]
  },
  {
   "cell_type": "code",
   "execution_count": 32,
   "id": "046b8690",
   "metadata": {},
   "outputs": [],
   "source": [
    "def chooseCount(arr, take, skip):\n",
    "    group = math.floor(len(arr)/(take + skip))\n",
    "    spare = len(arr)-(group*(take+skip))\n",
    "    if (spare > take):\n",
    "        return ((group*take) + take)\n",
    "    else:\n",
    "        return ((group*take) + spare)"
   ]
  },
  {
   "cell_type": "code",
   "execution_count": 33,
   "id": "435baf6d",
   "metadata": {},
   "outputs": [
    {
     "name": "stdout",
     "output_type": "stream",
     "text": [
      "[0, 3, 6, 9]\n",
      "4\n"
     ]
    }
   ],
   "source": [
    "print(choose([0,1,2,3,4,5,6,7,8,9], 1, 2))\n",
    "print(chooseCount([0,1,2,3,4,5,6,7,8,9], 1, 2))"
   ]
  },
  {
   "cell_type": "code",
   "execution_count": 34,
   "id": "3d81fb41",
   "metadata": {},
   "outputs": [
    {
     "name": "stdout",
     "output_type": "stream",
     "text": [
      "[0, 6]\n",
      "2\n"
     ]
    }
   ],
   "source": [
    "print(choose([0,1,2,3,4,5,6,7,8,9], 1, 5))\n",
    "print(chooseCount([0,1,2,3,4,5,6,7,8,9], 1, 5))"
   ]
  },
  {
   "cell_type": "code",
   "execution_count": 35,
   "id": "f6683cea",
   "metadata": {},
   "outputs": [
    {
     "name": "stdout",
     "output_type": "stream",
     "text": [
      "[0, 1, 4, 5, 8, 9]\n",
      "6\n"
     ]
    }
   ],
   "source": [
    "print(choose([0,1,2,3,4,5,6,7,8,9], 2, 2))\n",
    "print(chooseCount([0,1,2,3,4,5,6,7,8,9], 2, 2))"
   ]
  },
  {
   "cell_type": "code",
   "execution_count": null,
   "id": "5f2e8158",
   "metadata": {},
   "outputs": [],
   "source": []
  }
 ],
 "metadata": {
  "kernelspec": {
   "display_name": "Python 3 (ipykernel)",
   "language": "python",
   "name": "python3"
  },
  "language_info": {
   "codemirror_mode": {
    "name": "ipython",
    "version": 3
   },
   "file_extension": ".py",
   "mimetype": "text/x-python",
   "name": "python",
   "nbconvert_exporter": "python",
   "pygments_lexer": "ipython3",
   "version": "3.9.12"
  }
 },
 "nbformat": 4,
 "nbformat_minor": 5
}
