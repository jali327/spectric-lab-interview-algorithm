{
 "cells": [
  {
   "cell_type": "markdown",
   "id": "85e8583e",
   "metadata": {},
   "source": [
    "Write a function that takes three inputs, array, take, and skip. This function will loop through the array and will take n elements from the array then will skip n element. The return of the function will be an array of only the \"take\" elements."
   ]
  },
  {
   "cell_type": "code",
   "execution_count": 16,
   "id": "41013b73",
   "metadata": {},
   "outputs": [],
   "source": [
    "def choose(arr, take, skip):\n",
    "    return_arr = []\n",
    "    #Counters to keep track of current element in array and current take or skip count\n",
    "    i = 0\n",
    "    t_count = 0\n",
    "    s_count = 0\n",
    "    #Boolean to keep track of whether it's necessary to take or skip\n",
    "    t_or_s = True\n",
    "    #Iterates through all elements in array\n",
    "    while i < len(arr):\n",
    "        #Checks if the current element should be taken or skipped\n",
    "        if (t_or_s) == True:\n",
    "            return_arr.append(arr[i])\n",
    "            t_count+=1\n",
    "            if (t_count == take):\n",
    "                t_count = 0\n",
    "                t_or_s = False\n",
    "        else:\n",
    "            s_count+=1\n",
    "            if (s_count == skip):\n",
    "                s_count = 0\n",
    "                t_or_s = True \n",
    "        i = i + 1\n",
    "    return return_arr"
   ]
  },
  {
   "cell_type": "code",
   "execution_count": 17,
   "id": "a85ce2df",
   "metadata": {},
   "outputs": [
    {
     "data": {
      "text/plain": [
       "[0, 3, 6, 9]"
      ]
     },
     "execution_count": 17,
     "metadata": {},
     "output_type": "execute_result"
    }
   ],
   "source": [
    "choose([0,1,2,3,4,5,6,7,8,9], 1, 2)"
   ]
  },
  {
   "cell_type": "code",
   "execution_count": 18,
   "id": "eb4b1777",
   "metadata": {},
   "outputs": [
    {
     "data": {
      "text/plain": [
       "[0, 6]"
      ]
     },
     "execution_count": 18,
     "metadata": {},
     "output_type": "execute_result"
    }
   ],
   "source": [
    "choose([0,1,2,3,4,5,6,7,8,9], 1, 5)"
   ]
  },
  {
   "cell_type": "code",
   "execution_count": 19,
   "id": "601f0d46",
   "metadata": {},
   "outputs": [
    {
     "data": {
      "text/plain": [
       "[0, 1, 4, 5, 8, 9]"
      ]
     },
     "execution_count": 19,
     "metadata": {},
     "output_type": "execute_result"
    }
   ],
   "source": [
    "choose([0,1,2,3,4,5,6,7,8,9], 2, 2)"
   ]
  },
  {
   "cell_type": "code",
   "execution_count": null,
   "id": "d588e554",
   "metadata": {},
   "outputs": [],
   "source": []
  }
 ],
 "metadata": {
  "kernelspec": {
   "display_name": "Python 3 (ipykernel)",
   "language": "python",
   "name": "python3"
  },
  "language_info": {
   "codemirror_mode": {
    "name": "ipython",
    "version": 3
   },
   "file_extension": ".py",
   "mimetype": "text/x-python",
   "name": "python",
   "nbconvert_exporter": "python",
   "pygments_lexer": "ipython3",
   "version": "3.9.12"
  }
 },
 "nbformat": 4,
 "nbformat_minor": 5
}
